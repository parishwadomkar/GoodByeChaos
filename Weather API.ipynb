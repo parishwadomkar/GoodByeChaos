{
 "cells": [
  {
   "cell_type": "code",
   "execution_count": 1,
   "id": "523d370b",
   "metadata": {},
   "outputs": [],
   "source": [
    "import requests\n",
    "import datetime\n",
    "import pytz\n",
    "import matplotlib.pyplot as plt\n",
    "import matplotlib.image as mpimg\n",
    "api = \"xxxxx\"\n",
    "import warnings\n",
    "warnings.filterwarnings('ignore')"
   ]
  },
  {
   "cell_type": "code",
   "execution_count": 2,
   "id": "395bfe4c",
   "metadata": {},
   "outputs": [],
   "source": [
    "#Fetch values of latitude and longitude\n",
    "lat = \"59.33258\"\n",
    "lon = \"18.0649\"\n",
    "#Fetch the destination arrival datetime (milliseconds)\n",
    "a= 1634735420"
   ]
  },
  {
   "cell_type": "code",
   "execution_count": 3,
   "id": "2a22cbd1",
   "metadata": {},
   "outputs": [
    {
     "name": "stdout",
     "output_type": "stream",
     "text": [
      "{'lat': 59.3326, 'lon': 18.0649, 'timezone': 'Europe/Stockholm', 'timezone_offset': 7200, 'current': {'dt': 1634840566, 'sunrise': 1634794795, 'sunset': 1634829869, 'temp': 281.13, 'feels_like': 277.59, 'pressure': 970, 'humidity': 91, 'dew_point': 279.75, 'uvi': 0, 'clouds': 75, 'visibility': 10000, 'wind_speed': 6.69, 'wind_deg': 280, 'weather': [{'id': 803, 'main': 'Clouds', 'description': 'broken clouds', 'icon': '04n'}]}, 'minutely': [{'dt': 1634840580, 'precipitation': 0}, {'dt': 1634840640, 'precipitation': 0}, {'dt': 1634840700, 'precipitation': 0}, {'dt': 1634840760, 'precipitation': 0}, {'dt': 1634840820, 'precipitation': 0}, {'dt': 1634840880, 'precipitation': 0}, {'dt': 1634840940, 'precipitation': 0}, {'dt': 1634841000, 'precipitation': 0}, {'dt': 1634841060, 'precipitation': 0}, {'dt': 1634841120, 'precipitation': 0}, {'dt': 1634841180, 'precipitation': 0}, {'dt': 1634841240, 'precipitation': 0}, {'dt': 1634841300, 'precipitation': 0}, {'dt': 1634841360, 'precipitation': 0}, {'dt': 1634841420, 'precipitation': 0}, {'dt': 1634841480, 'precipitation': 0}, {'dt': 1634841540, 'precipitation': 0}, {'dt': 1634841600, 'precipitation': 0}, {'dt': 1634841660, 'precipitation': 0}, {'dt': 1634841720, 'precipitation': 0}, {'dt': 1634841780, 'precipitation': 0}, {'dt': 1634841840, 'precipitation': 0}, {'dt': 1634841900, 'precipitation': 0}, {'dt': 1634841960, 'precipitation': 0}, {'dt': 1634842020, 'precipitation': 0}, {'dt': 1634842080, 'precipitation': 0}, {'dt': 1634842140, 'precipitation': 0}, {'dt': 1634842200, 'precipitation': 0}, {'dt': 1634842260, 'precipitation': 0}, {'dt': 1634842320, 'precipitation': 0}, {'dt': 1634842380, 'precipitation': 0}, {'dt': 1634842440, 'precipitation': 0}, {'dt': 1634842500, 'precipitation': 0}, {'dt': 1634842560, 'precipitation': 0}, {'dt': 1634842620, 'precipitation': 0}, {'dt': 1634842680, 'precipitation': 0}, {'dt': 1634842740, 'precipitation': 0}, {'dt': 1634842800, 'precipitation': 0}, {'dt': 1634842860, 'precipitation': 0}, {'dt': 1634842920, 'precipitation': 0}, {'dt': 1634842980, 'precipitation': 0}, {'dt': 1634843040, 'precipitation': 0}, {'dt': 1634843100, 'precipitation': 0}, {'dt': 1634843160, 'precipitation': 0}, {'dt': 1634843220, 'precipitation': 0}, {'dt': 1634843280, 'precipitation': 0}, {'dt': 1634843340, 'precipitation': 0}, {'dt': 1634843400, 'precipitation': 0}, {'dt': 1634843460, 'precipitation': 0}, {'dt': 1634843520, 'precipitation': 0}, {'dt': 1634843580, 'precipitation': 0}, {'dt': 1634843640, 'precipitation': 0}, {'dt': 1634843700, 'precipitation': 0}, {'dt': 1634843760, 'precipitation': 0}, {'dt': 1634843820, 'precipitation': 0}, {'dt': 1634843880, 'precipitation': 0}, {'dt': 1634843940, 'precipitation': 0}, {'dt': 1634844000, 'precipitation': 0}, {'dt': 1634844060, 'precipitation': 0}, {'dt': 1634844120, 'precipitation': 0}, {'dt': 1634844180, 'precipitation': 0}], 'hourly': [{'dt': 1634839200, 'temp': 281.13, 'feels_like': 277.66, 'pressure': 970, 'humidity': 91, 'dew_point': 279.75, 'uvi': 0, 'clouds': 75, 'visibility': 10000, 'wind_speed': 6.49, 'wind_deg': 289, 'wind_gust': 11.05, 'weather': [{'id': 500, 'main': 'Rain', 'description': 'light rain', 'icon': '10n'}], 'pop': 1, 'rain': {'1h': 0.67}}, {'dt': 1634842800, 'temp': 281.21, 'feels_like': 277.63, 'pressure': 971, 'humidity': 87, 'dew_point': 279.18, 'uvi': 0, 'clouds': 80, 'visibility': 10000, 'wind_speed': 6.89, 'wind_deg': 292, 'wind_gust': 11.52, 'weather': [{'id': 803, 'main': 'Clouds', 'description': 'broken clouds', 'icon': '04n'}], 'pop': 0.42}, {'dt': 1634846400, 'temp': 280.82, 'feels_like': 276.96, 'pressure': 972, 'humidity': 82, 'dew_point': 277.95, 'uvi': 0, 'clouds': 85, 'visibility': 10000, 'wind_speed': 7.44, 'wind_deg': 287, 'wind_gust': 12.19, 'weather': [{'id': 804, 'main': 'Clouds', 'description': 'overcast clouds', 'icon': '04n'}], 'pop': 0.42}, {'dt': 1634850000, 'temp': 280.55, 'feels_like': 276.63, 'pressure': 973, 'humidity': 76, 'dew_point': 276.6, 'uvi': 0, 'clouds': 90, 'visibility': 10000, 'wind_speed': 7.36, 'wind_deg': 295, 'wind_gust': 12.93, 'weather': [{'id': 804, 'main': 'Clouds', 'description': 'overcast clouds', 'icon': '04n'}], 'pop': 0.3}, {'dt': 1634853600, 'temp': 279.84, 'feels_like': 275.78, 'pressure': 975, 'humidity': 71, 'dew_point': 274.96, 'uvi': 0, 'clouds': 93, 'visibility': 10000, 'wind_speed': 7.17, 'wind_deg': 286, 'wind_gust': 12.51, 'weather': [{'id': 804, 'main': 'Clouds', 'description': 'overcast clouds', 'icon': '04n'}], 'pop': 0.28}, {'dt': 1634857200, 'temp': 279, 'feels_like': 274.6, 'pressure': 978, 'humidity': 62, 'dew_point': 272.37, 'uvi': 0, 'clouds': 80, 'visibility': 10000, 'wind_speed': 7.47, 'wind_deg': 290, 'wind_gust': 12.92, 'weather': [{'id': 803, 'main': 'Clouds', 'description': 'broken clouds', 'icon': '04n'}], 'pop': 0.24}, {'dt': 1634860800, 'temp': 278.57, 'feels_like': 274.07, 'pressure': 979, 'humidity': 61, 'dew_point': 271.74, 'uvi': 0, 'clouds': 69, 'visibility': 10000, 'wind_speed': 7.37, 'wind_deg': 287, 'wind_gust': 13.24, 'weather': [{'id': 803, 'main': 'Clouds', 'description': 'broken clouds', 'icon': '04n'}], 'pop': 0.2}, {'dt': 1634864400, 'temp': 278.45, 'feels_like': 273.83, 'pressure': 980, 'humidity': 59, 'dew_point': 271.02, 'uvi': 0, 'clouds': 7, 'visibility': 10000, 'wind_speed': 7.64, 'wind_deg': 283, 'wind_gust': 14.23, 'weather': [{'id': 800, 'main': 'Clear', 'description': 'clear sky', 'icon': '01n'}], 'pop': 0}, {'dt': 1634868000, 'temp': 277.88, 'feels_like': 273.17, 'pressure': 981, 'humidity': 66, 'dew_point': 272.12, 'uvi': 0, 'clouds': 7, 'visibility': 10000, 'wind_speed': 7.41, 'wind_deg': 272, 'wind_gust': 14.2, 'weather': [{'id': 800, 'main': 'Clear', 'description': 'clear sky', 'icon': '01n'}], 'pop': 0}, {'dt': 1634871600, 'temp': 277.66, 'feels_like': 273, 'pressure': 981, 'humidity': 62, 'dew_point': 271.09, 'uvi': 0, 'clouds': 7, 'visibility': 10000, 'wind_speed': 7.08, 'wind_deg': 273, 'wind_gust': 14.3, 'weather': [{'id': 800, 'main': 'Clear', 'description': 'clear sky', 'icon': '01n'}], 'pop': 0}, {'dt': 1634875200, 'temp': 277.42, 'feels_like': 272.67, 'pressure': 982, 'humidity': 60, 'dew_point': 270.27, 'uvi': 0, 'clouds': 7, 'visibility': 10000, 'wind_speed': 7.16, 'wind_deg': 269, 'wind_gust': 14.35, 'weather': [{'id': 800, 'main': 'Clear', 'description': 'clear sky', 'icon': '01n'}], 'pop': 0}, {'dt': 1634878800, 'temp': 277.33, 'feels_like': 272.7, 'pressure': 982, 'humidity': 59, 'dew_point': 270.08, 'uvi': 0, 'clouds': 7, 'visibility': 10000, 'wind_speed': 6.76, 'wind_deg': 269, 'wind_gust': 14.23, 'weather': [{'id': 800, 'main': 'Clear', 'description': 'clear sky', 'icon': '01n'}], 'pop': 0}, {'dt': 1634882400, 'temp': 276.98, 'feels_like': 272.34, 'pressure': 983, 'humidity': 62, 'dew_point': 270.37, 'uvi': 0, 'clouds': 6, 'visibility': 10000, 'wind_speed': 6.54, 'wind_deg': 262, 'wind_gust': 13.69, 'weather': [{'id': 800, 'main': 'Clear', 'description': 'clear sky', 'icon': '01d'}], 'pop': 0}, {'dt': 1634886000, 'temp': 277.27, 'feels_like': 272.74, 'pressure': 984, 'humidity': 62, 'dew_point': 270.6, 'uvi': 0, 'clouds': 0, 'visibility': 10000, 'wind_speed': 6.45, 'wind_deg': 261, 'wind_gust': 13.42, 'weather': [{'id': 800, 'main': 'Clear', 'description': 'clear sky', 'icon': '01d'}], 'pop': 0}, {'dt': 1634889600, 'temp': 278.09, 'feels_like': 273.83, 'pressure': 984, 'humidity': 60, 'dew_point': 270.93, 'uvi': 0.29, 'clouds': 0, 'visibility': 10000, 'wind_speed': 6.34, 'wind_deg': 261, 'wind_gust': 12.43, 'weather': [{'id': 800, 'main': 'Clear', 'description': 'clear sky', 'icon': '01d'}], 'pop': 0}, {'dt': 1634893200, 'temp': 278.98, 'feels_like': 275, 'pressure': 985, 'humidity': 58, 'dew_point': 271.34, 'uvi': 0.53, 'clouds': 2, 'visibility': 10000, 'wind_speed': 6.25, 'wind_deg': 258, 'wind_gust': 11.93, 'weather': [{'id': 800, 'main': 'Clear', 'description': 'clear sky', 'icon': '01d'}], 'pop': 0}, {'dt': 1634896800, 'temp': 279.81, 'feels_like': 276.06, 'pressure': 985, 'humidity': 54, 'dew_point': 271.25, 'uvi': 0.74, 'clouds': 2, 'visibility': 10000, 'wind_speed': 6.26, 'wind_deg': 257, 'wind_gust': 11.44, 'weather': [{'id': 800, 'main': 'Clear', 'description': 'clear sky', 'icon': '01d'}], 'pop': 0}, {'dt': 1634900400, 'temp': 280.4, 'feels_like': 276.82, 'pressure': 986, 'humidity': 52, 'dew_point': 271.07, 'uvi': 0.79, 'clouds': 3, 'visibility': 10000, 'wind_speed': 6.22, 'wind_deg': 260, 'wind_gust': 11.35, 'weather': [{'id': 800, 'main': 'Clear', 'description': 'clear sky', 'icon': '01d'}], 'pop': 0}, {'dt': 1634904000, 'temp': 280.68, 'feels_like': 277.24, 'pressure': 986, 'humidity': 50, 'dew_point': 270.84, 'uvi': 0.67, 'clouds': 4, 'visibility': 10000, 'wind_speed': 6.05, 'wind_deg': 263, 'wind_gust': 10.85, 'weather': [{'id': 800, 'main': 'Clear', 'description': 'clear sky', 'icon': '01d'}], 'pop': 0}, {'dt': 1634907600, 'temp': 280.61, 'feels_like': 277.27, 'pressure': 986, 'humidity': 49, 'dew_point': 270.63, 'uvi': 0.42, 'clouds': 18, 'visibility': 10000, 'wind_speed': 5.73, 'wind_deg': 269, 'wind_gust': 10, 'weather': [{'id': 801, 'main': 'Clouds', 'description': 'few clouds', 'icon': '02d'}], 'pop': 0}, {'dt': 1634911200, 'temp': 280.17, 'feels_like': 276.84, 'pressure': 987, 'humidity': 50, 'dew_point': 270.51, 'uvi': 0.21, 'clouds': 31, 'visibility': 10000, 'wind_speed': 5.41, 'wind_deg': 276, 'wind_gust': 9.89, 'weather': [{'id': 802, 'main': 'Clouds', 'description': 'scattered clouds', 'icon': '03d'}], 'pop': 0}, {'dt': 1634914800, 'temp': 279.45, 'feels_like': 276.18, 'pressure': 987, 'humidity': 53, 'dew_point': 270.4, 'uvi': 0, 'clouds': 44, 'visibility': 10000, 'wind_speed': 4.86, 'wind_deg': 281, 'wind_gust': 10.15, 'weather': [{'id': 802, 'main': 'Clouds', 'description': 'scattered clouds', 'icon': '03d'}], 'pop': 0}, {'dt': 1634918400, 'temp': 278.77, 'feels_like': 275.6, 'pressure': 988, 'humidity': 57, 'dew_point': 270.73, 'uvi': 0, 'clouds': 58, 'visibility': 10000, 'wind_speed': 4.31, 'wind_deg': 284, 'wind_gust': 10, 'weather': [{'id': 803, 'main': 'Clouds', 'description': 'broken clouds', 'icon': '04n'}], 'pop': 0}, {'dt': 1634922000, 'temp': 278.31, 'feels_like': 275.18, 'pressure': 990, 'humidity': 60, 'dew_point': 271.12, 'uvi': 0, 'clouds': 63, 'visibility': 10000, 'wind_speed': 4.04, 'wind_deg': 289, 'wind_gust': 9.72, 'weather': [{'id': 803, 'main': 'Clouds', 'description': 'broken clouds', 'icon': '04n'}], 'pop': 0}, {'dt': 1634925600, 'temp': 278.04, 'feels_like': 274.81, 'pressure': 991, 'humidity': 64, 'dew_point': 271.76, 'uvi': 0, 'clouds': 63, 'visibility': 10000, 'wind_speed': 4.11, 'wind_deg': 308, 'wind_gust': 8.72, 'weather': [{'id': 803, 'main': 'Clouds', 'description': 'broken clouds', 'icon': '04n'}], 'pop': 0}, {'dt': 1634929200, 'temp': 277.1, 'feels_like': 273.55, 'pressure': 992, 'humidity': 83, 'dew_point': 274.26, 'uvi': 0, 'clouds': 96, 'visibility': 10000, 'wind_speed': 4.29, 'wind_deg': 341, 'wind_gust': 7.48, 'weather': [{'id': 804, 'main': 'Clouds', 'description': 'overcast clouds', 'icon': '04n'}], 'pop': 0.03}, {'dt': 1634932800, 'temp': 276.19, 'feels_like': 272.16, 'pressure': 994, 'humidity': 90, 'dew_point': 274.64, 'uvi': 0, 'clouds': 97, 'visibility': 10000, 'wind_speed': 4.76, 'wind_deg': 339, 'wind_gust': 9.24, 'weather': [{'id': 804, 'main': 'Clouds', 'description': 'overcast clouds', 'icon': '04n'}], 'pop': 0.1}, {'dt': 1634936400, 'temp': 276.44, 'feels_like': 272.32, 'pressure': 995, 'humidity': 76, 'dew_point': 272.55, 'uvi': 0, 'clouds': 97, 'visibility': 10000, 'wind_speed': 5.06, 'wind_deg': 331, 'wind_gust': 8.39, 'weather': [{'id': 804, 'main': 'Clouds', 'description': 'overcast clouds', 'icon': '04n'}], 'pop': 0.07}, {'dt': 1634940000, 'temp': 275.8, 'feels_like': 271.43, 'pressure': 997, 'humidity': 72, 'dew_point': 271.28, 'uvi': 0, 'clouds': 95, 'visibility': 10000, 'wind_speed': 5.22, 'wind_deg': 328, 'wind_gust': 9.06, 'weather': [{'id': 804, 'main': 'Clouds', 'description': 'overcast clouds', 'icon': '04n'}], 'pop': 0}, {'dt': 1634943600, 'temp': 275.16, 'feels_like': 270.51, 'pressure': 998, 'humidity': 74, 'dew_point': 271, 'uvi': 0, 'clouds': 94, 'visibility': 10000, 'wind_speed': 5.46, 'wind_deg': 323, 'wind_gust': 10.19, 'weather': [{'id': 804, 'main': 'Clouds', 'description': 'overcast clouds', 'icon': '04n'}], 'pop': 0.03}, {'dt': 1634947200, 'temp': 274.95, 'feels_like': 270.14, 'pressure': 999, 'humidity': 75, 'dew_point': 270.97, 'uvi': 0, 'clouds': 95, 'visibility': 10000, 'wind_speed': 5.68, 'wind_deg': 321, 'wind_gust': 11.33, 'weather': [{'id': 804, 'main': 'Clouds', 'description': 'overcast clouds', 'icon': '04n'}], 'pop': 0.04}, {'dt': 1634950800, 'temp': 274.91, 'feels_like': 269.91, 'pressure': 1000, 'humidity': 78, 'dew_point': 271.45, 'uvi': 0, 'clouds': 98, 'visibility': 10000, 'wind_speed': 6.05, 'wind_deg': 322, 'wind_gust': 12.56, 'weather': [{'id': 804, 'main': 'Clouds', 'description': 'overcast clouds', 'icon': '04n'}], 'pop': 0.16}, {'dt': 1634954400, 'temp': 274.97, 'feels_like': 269.83, 'pressure': 1002, 'humidity': 81, 'dew_point': 271.95, 'uvi': 0, 'clouds': 98, 'visibility': 10000, 'wind_speed': 6.39, 'wind_deg': 326, 'wind_gust': 12.67, 'weather': [{'id': 804, 'main': 'Clouds', 'description': 'overcast clouds', 'icon': '04n'}], 'pop': 0.16}, {'dt': 1634958000, 'temp': 275.18, 'feels_like': 270.06, 'pressure': 1003, 'humidity': 80, 'dew_point': 272, 'uvi': 0, 'clouds': 98, 'visibility': 10000, 'wind_speed': 6.48, 'wind_deg': 328, 'wind_gust': 12.28, 'weather': [{'id': 804, 'main': 'Clouds', 'description': 'overcast clouds', 'icon': '04n'}], 'pop': 0.16}, {'dt': 1634961600, 'temp': 275.12, 'feels_like': 270.05, 'pressure': 1004, 'humidity': 78, 'dew_point': 271.69, 'uvi': 0, 'clouds': 99, 'visibility': 10000, 'wind_speed': 6.34, 'wind_deg': 328, 'wind_gust': 12.2, 'weather': [{'id': 804, 'main': 'Clouds', 'description': 'overcast clouds', 'icon': '04n'}], 'pop': 0.16}, {'dt': 1634965200, 'temp': 275.23, 'feels_like': 270.16, 'pressure': 1006, 'humidity': 76, 'dew_point': 271.5, 'uvi': 0, 'clouds': 99, 'visibility': 10000, 'wind_speed': 6.4, 'wind_deg': 326, 'wind_gust': 11.82, 'weather': [{'id': 804, 'main': 'Clouds', 'description': 'overcast clouds', 'icon': '04n'}], 'pop': 0.14}, {'dt': 1634968800, 'temp': 274.85, 'feels_like': 269.67, 'pressure': 1007, 'humidity': 74, 'dew_point': 270.68, 'uvi': 0, 'clouds': 99, 'visibility': 10000, 'wind_speed': 6.41, 'wind_deg': 327, 'wind_gust': 11.87, 'weather': [{'id': 804, 'main': 'Clouds', 'description': 'overcast clouds', 'icon': '04d'}], 'pop': 0.14}, {'dt': 1634972400, 'temp': 274.57, 'feels_like': 269.36, 'pressure': 1009, 'humidity': 74, 'dew_point': 270.3, 'uvi': 0, 'clouds': 100, 'visibility': 10000, 'wind_speed': 6.3, 'wind_deg': 325, 'wind_gust': 11.95, 'weather': [{'id': 804, 'main': 'Clouds', 'description': 'overcast clouds', 'icon': '04d'}], 'pop': 0.07}, {'dt': 1634976000, 'temp': 274.92, 'feels_like': 269.78, 'pressure': 1010, 'humidity': 71, 'dew_point': 270.21, 'uvi': 0.28, 'clouds': 86, 'visibility': 10000, 'wind_speed': 6.36, 'wind_deg': 324, 'wind_gust': 12.03, 'weather': [{'id': 804, 'main': 'Clouds', 'description': 'overcast clouds', 'icon': '04d'}], 'pop': 0.07}, {'dt': 1634979600, 'temp': 275.49, 'feels_like': 270.54, 'pressure': 1011, 'humidity': 68, 'dew_point': 270.18, 'uvi': 0.52, 'clouds': 82, 'visibility': 10000, 'wind_speed': 6.28, 'wind_deg': 324, 'wind_gust': 11.53, 'weather': [{'id': 803, 'main': 'Clouds', 'description': 'broken clouds', 'icon': '04d'}], 'pop': 0.07}, {'dt': 1634983200, 'temp': 276.2, 'feels_like': 271.48, 'pressure': 1013, 'humidity': 64, 'dew_point': 270.12, 'uvi': 0.75, 'clouds': 67, 'visibility': 10000, 'wind_speed': 6.2, 'wind_deg': 327, 'wind_gust': 10.88, 'weather': [{'id': 803, 'main': 'Clouds', 'description': 'broken clouds', 'icon': '04d'}], 'pop': 0.07}, {'dt': 1634986800, 'temp': 276.85, 'feels_like': 272.37, 'pressure': 1014, 'humidity': 62, 'dew_point': 270.14, 'uvi': 0.8, 'clouds': 56, 'visibility': 10000, 'wind_speed': 6.06, 'wind_deg': 328, 'wind_gust': 9.84, 'weather': [{'id': 803, 'main': 'Clouds', 'description': 'broken clouds', 'icon': '04d'}], 'pop': 0.07}, {'dt': 1634990400, 'temp': 277.2, 'feels_like': 272.98, 'pressure': 1015, 'humidity': 59, 'dew_point': 269.93, 'uvi': 0.67, 'clouds': 48, 'visibility': 10000, 'wind_speed': 5.68, 'wind_deg': 331, 'wind_gust': 9.06, 'weather': [{'id': 802, 'main': 'Clouds', 'description': 'scattered clouds', 'icon': '03d'}], 'pop': 0}, {'dt': 1634994000, 'temp': 277.27, 'feels_like': 273.35, 'pressure': 1016, 'humidity': 58, 'dew_point': 269.65, 'uvi': 0.47, 'clouds': 7, 'visibility': 10000, 'wind_speed': 5.07, 'wind_deg': 329, 'wind_gust': 8.79, 'weather': [{'id': 800, 'main': 'Clear', 'description': 'clear sky', 'icon': '01d'}], 'pop': 0}, {'dt': 1634997600, 'temp': 277.01, 'feels_like': 273.42, 'pressure': 1017, 'humidity': 57, 'dew_point': 269.31, 'uvi': 0.22, 'clouds': 6, 'visibility': 10000, 'wind_speed': 4.32, 'wind_deg': 330, 'wind_gust': 9.05, 'weather': [{'id': 800, 'main': 'Clear', 'description': 'clear sky', 'icon': '01d'}], 'pop': 0}, {'dt': 1635001200, 'temp': 276.27, 'feels_like': 273.08, 'pressure': 1018, 'humidity': 60, 'dew_point': 269.07, 'uvi': 0, 'clouds': 5, 'visibility': 10000, 'wind_speed': 3.43, 'wind_deg': 330, 'wind_gust': 7.44, 'weather': [{'id': 800, 'main': 'Clear', 'description': 'clear sky', 'icon': '01d'}], 'pop': 0}, {'dt': 1635004800, 'temp': 275.62, 'feels_like': 272.64, 'pressure': 1019, 'humidity': 62, 'dew_point': 269.06, 'uvi': 0, 'clouds': 4, 'visibility': 10000, 'wind_speed': 2.97, 'wind_deg': 331, 'wind_gust': 6.68, 'weather': [{'id': 800, 'main': 'Clear', 'description': 'clear sky', 'icon': '01n'}], 'pop': 0}, {'dt': 1635008400, 'temp': 275.31, 'feels_like': 272.29, 'pressure': 1020, 'humidity': 64, 'dew_point': 269.02, 'uvi': 0, 'clouds': 5, 'visibility': 10000, 'wind_speed': 2.94, 'wind_deg': 330, 'wind_gust': 6.99, 'weather': [{'id': 800, 'main': 'Clear', 'description': 'clear sky', 'icon': '01n'}], 'pop': 0}], 'daily': [{'dt': 1634810400, 'sunrise': 1634794795, 'sunset': 1634829869, 'moonrise': 1634831340, 'moonset': 1634797140, 'moon_phase': 0.52, 'temp': {'day': 284.49, 'min': 280.55, 'max': 284.49, 'night': 280.55, 'eve': 281.33, 'morn': 282.86}, 'feels_like': {'day': 283.87, 'night': 276.63, 'eve': 278.89, 'morn': 280.2}, 'pressure': 978, 'humidity': 84, 'dew_point': 281.7, 'wind_speed': 7.44, 'wind_deg': 287, 'wind_gust': 15.57, 'weather': [{'id': 502, 'main': 'Rain', 'description': 'heavy intensity rain', 'icon': '10d'}], 'clouds': 77, 'pop': 1, 'rain': 17.39, 'uvi': 0.5}, {'dt': 1634896800, 'sunrise': 1634881341, 'sunset': 1634916105, 'moonrise': 1634918160, 'moonset': 1634888520, 'moon_phase': 0.56, 'temp': {'day': 279.81, 'min': 276.19, 'max': 280.68, 'night': 276.44, 'eve': 278.77, 'morn': 277.42}, 'feels_like': {'day': 276.06, 'night': 272.32, 'eve': 275.6, 'morn': 272.67}, 'pressure': 985, 'humidity': 54, 'dew_point': 271.25, 'wind_speed': 7.64, 'wind_deg': 283, 'wind_gust': 14.35, 'weather': [{'id': 800, 'main': 'Clear', 'description': 'clear sky', 'icon': '01d'}], 'clouds': 2, 'pop': 0.28, 'uvi': 0.79}, {'dt': 1634983200, 'sunrise': 1634967888, 'sunset': 1635002342, 'moonrise': 1635005100, 'moonset': 1634979900, 'moon_phase': 0.59, 'temp': {'day': 276.2, 'min': 274.37, 'max': 277.27, 'night': 274.37, 'eve': 275.62, 'morn': 275.12}, 'feels_like': {'day': 271.48, 'night': 272.14, 'eve': 272.64, 'morn': 270.05}, 'pressure': 1013, 'humidity': 64, 'dew_point': 270.12, 'wind_speed': 6.48, 'wind_deg': 328, 'wind_gust': 12.67, 'weather': [{'id': 803, 'main': 'Clouds', 'description': 'broken clouds', 'icon': '04d'}], 'clouds': 67, 'pop': 0.16, 'uvi': 0.8}, {'dt': 1635069600, 'sunrise': 1635054435, 'sunset': 1635088580, 'moonrise': 1635092400, 'moonset': 1635071220, 'moon_phase': 0.62, 'temp': {'day': 280.04, 'min': 274.3, 'max': 281.39, 'night': 281.39, 'eve': 280.39, 'morn': 275.04}, 'feels_like': {'day': 277.32, 'night': 278.67, 'eve': 277.48, 'morn': 273.16}, 'pressure': 1023, 'humidity': 72, 'dew_point': 275.38, 'wind_speed': 5.07, 'wind_deg': 220, 'wind_gust': 13.26, 'weather': [{'id': 804, 'main': 'Clouds', 'description': 'overcast clouds', 'icon': '04d'}], 'clouds': 100, 'pop': 0, 'uvi': 0.42}, {'dt': 1635156000, 'sunrise': 1635140982, 'sunset': 1635174819, 'moonrise': 1635180360, 'moonset': 1635162180, 'moon_phase': 0.65, 'temp': {'day': 281.19, 'min': 278.27, 'max': 282.73, 'night': 279.32, 'eve': 281.01, 'morn': 278.72}, 'feels_like': {'day': 278.23, 'night': 277.09, 'eve': 278.44, 'morn': 275.33}, 'pressure': 1017, 'humidity': 76, 'dew_point': 277.16, 'wind_speed': 5.14, 'wind_deg': 215, 'wind_gust': 13.12, 'weather': [{'id': 803, 'main': 'Clouds', 'description': 'broken clouds', 'icon': '04d'}], 'clouds': 76, 'pop': 0, 'uvi': 0.9}, {'dt': 1635242400, 'sunrise': 1635227530, 'sunset': 1635261059, 'moonrise': 1635269280, 'moonset': 1635252300, 'moon_phase': 0.68, 'temp': {'day': 282.56, 'min': 279.1, 'max': 284.13, 'night': 281.56, 'eve': 282.58, 'morn': 279.98}, 'feels_like': {'day': 280.22, 'night': 279.03, 'eve': 279.97, 'morn': 277.72}, 'pressure': 1010, 'humidity': 85, 'dew_point': 280.2, 'wind_speed': 5.35, 'wind_deg': 252, 'wind_gust': 11.96, 'weather': [{'id': 500, 'main': 'Rain', 'description': 'light rain', 'icon': '10d'}], 'clouds': 100, 'pop': 0.66, 'rain': 1.71, 'uvi': 0.75}, {'dt': 1635328800, 'sunrise': 1635314079, 'sunset': 1635347300, 'moonrise': 1635359400, 'moonset': 1635341340, 'moon_phase': 0.71, 'temp': {'day': 286.09, 'min': 282.08, 'max': 286.94, 'night': 284.33, 'eve': 286.49, 'morn': 284.66}, 'feels_like': {'day': 285.5, 'night': 283.33, 'eve': 285.81, 'morn': 284.16}, 'pressure': 999, 'humidity': 79, 'dew_point': 282.56, 'wind_speed': 8.51, 'wind_deg': 240, 'wind_gust': 17.25, 'weather': [{'id': 500, 'main': 'Rain', 'description': 'light rain', 'icon': '10d'}], 'clouds': 100, 'pop': 0.35, 'rain': 0.78, 'uvi': 1}, {'dt': 1635415200, 'sunrise': 1635400627, 'sunset': 1635433543, 'moonrise': 1635450480, 'moonset': 1635429360, 'moon_phase': 0.75, 'temp': {'day': 282.84, 'min': 280.85, 'max': 286.12, 'night': 286.12, 'eve': 283.67, 'morn': 281.73}, 'feels_like': {'day': 281.08, 'night': 285.64, 'eve': 283.18, 'morn': 278.7}, 'pressure': 1006, 'humidity': 78, 'dew_point': 279.23, 'wind_speed': 7.32, 'wind_deg': 221, 'wind_gust': 16.62, 'weather': [{'id': 500, 'main': 'Rain', 'description': 'light rain', 'icon': '10d'}], 'clouds': 100, 'pop': 0.87, 'rain': 1.58, 'uvi': 1}], 'alerts': [{'sender_name': 'SMHI, Swedish Meteorological and Hydrological Institute', 'event': 'average wind speed at sea', 'start': 1634782510, 'end': 1635214510, 'description': 'Comment: Late Thursday afternoon west or southwest 14-17 m/s.', 'tags': []}]}\n"
     ]
    }
   ],
   "source": [
    "part = ''\n",
    "url = f'https://api.openweathermap.org/data/2.5/onecall?lat={lat}&lon={lon}&exclude={part}&appid={api}'\n",
    "req = requests.get(url)\n",
    "data = req.json()\n",
    "print(data)\n",
    "#print(url)"
   ]
  },
  {
   "cell_type": "code",
   "execution_count": 4,
   "id": "6a305728",
   "metadata": {},
   "outputs": [],
   "source": [
    "def fun(data):\n",
    "    if 'dt' in data:\n",
    "        yield data['dt']\n",
    "    for k in data:\n",
    "        if isinstance(data[k], list):\n",
    "            for i in data[k]:\n",
    "                for j in fun(i):\n",
    "                    yield j\n",
    "values = list(fun(data))"
   ]
  },
  {
   "cell_type": "code",
   "execution_count": 5,
   "id": "a98719cd",
   "metadata": {},
   "outputs": [
    {
     "name": "stdout",
     "output_type": "stream",
     "text": [
      "Time now:  10/21/2021, 08:29:20\n"
     ]
    }
   ],
   "source": [
    "def get_date(timezone_offset):\n",
    "    tz = datetime.timezone(datetime.timedelta(seconds=int(timezone_offset)))\n",
    "    return datetime.datetime.now(tz = tz).strftime(\"%m/%d/%Y, %H:%M:%S\") \n",
    "#strftime is just for visually formatting the datetime object\n",
    "print('Time now: ',get_date(data['timezone_offset']))"
   ]
  },
  {
   "cell_type": "code",
   "execution_count": 6,
   "id": "14d431bd",
   "metadata": {},
   "outputs": [],
   "source": [
    "hourly = data[\"hourly\"]\n",
    "for entry in hourly:\n",
    "    dt = datetime.datetime.fromtimestamp(entry[\"dt\"], pytz.timezone('Europe/Vienna'))\n",
    "    temp = entry[\"temp\"]\n",
    "    \n",
    "for element in hourly:\n",
    "    if element['dt']==a: print (element)\n",
    "    else: element['dt']==min(values, key=lambda v: abs(a-v))\n",
    "#print(element)"
   ]
  },
  {
   "cell_type": "code",
   "execution_count": 7,
   "id": "883c9d4c",
   "metadata": {},
   "outputs": [],
   "source": [
    "d = (element['weather'][0]['icon'])\n",
    "icon = f'http://openweathermap.org/img/wn/{d}@2x.png'\n",
    "img = mpimg.imread(icon)"
   ]
  },
  {
   "cell_type": "code",
   "execution_count": 8,
   "id": "c08f317a",
   "metadata": {},
   "outputs": [
    {
     "name": "stdout",
     "output_type": "stream",
     "text": [
      "Weather Report:\t 2021-10-20 15:10:20\n"
     ]
    },
    {
     "data": {
      "image/png": "[encoded data removed]",
      "text/plain": [
       "<Figure size 432x288 with 1 Axes>"
      ]
     },
     "metadata": {
      "needs_background": "light"
     },
     "output_type": "display_data"
    },
    {
     "name": "stdout",
     "output_type": "stream",
     "text": [
      "Europe/Stockholm Weather Forecast\n",
      "Temperature:\t 1.54 °C\n",
      "Feels Like:\t -3.55 °C\n",
      "Humidity:\t 80 hPa\n",
      "Wind speed:\t 6.12 km/hr\n",
      "Atmosphere:\t overcast clouds\n"
     ]
    }
   ],
   "source": [
    "print('Weather Report:\\t', datetime.datetime.fromtimestamp(a))\n",
    "plt.imshow(img)\n",
    "plt.show()\n",
    "print(data[\"timezone\"], 'Weather Forecast')\n",
    "print('Temperature:\\t', round(element['temp']-273.15, 2), '\\u00b0C')\n",
    "print('Feels Like:\\t', round(element['feels_like']-273.15, 2), '\\u00b0C')\n",
    "print('Humidity:\\t', round(element['humidity'], 2), 'hPa')\n",
    "print('Wind speed:\\t', round(element['wind_speed'], 2), 'km/hr')\n",
    "print('Atmosphere:\\t', (element['weather'][0]['description']))"
   ]
  },
  {
   "cell_type": "code",
   "execution_count": null,
   "id": "96bcbc87",
   "metadata": {},
   "outputs": [],
   "source": []
  }
 ],
 "metadata": {
  "hide_input": false,
  "kernelspec": {
   "display_name": "Python 3",
   "language": "python",
   "name": "python3"
  },
  "language_info": {
   "codemirror_mode": {
    "name": "ipython",
    "version": 3
   },
   "file_extension": ".py",
   "mimetype": "text/x-python",
   "name": "python",
   "nbconvert_exporter": "python",
   "pygments_lexer": "ipython3",
   "version": "3.7.9"
  },
  "toc": {
   "base_numbering": 1,
   "nav_menu": {},
   "number_sections": true,
   "sideBar": true,
   "skip_h1_title": false,
   "title_cell": "Table of Contents",
   "title_sidebar": "Contents",
   "toc_cell": false,
   "toc_position": {},
   "toc_section_display": true,
   "toc_window_display": false
  }
 },
 "nbformat": 4,
 "nbformat_minor": 5
}
