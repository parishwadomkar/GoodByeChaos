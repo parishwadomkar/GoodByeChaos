{
 "cells": [
  {
   "cell_type": "code",
   "execution_count": 1,
   "id": "523d370b",
   "metadata": {},
   "outputs": [],
   "source": [
    "import requests\n",
    "import datetime\n",
    "import pytz\n",
    "import matplotlib.pyplot as plt\n",
    "import matplotlib.image as mpimg\n",
    "api = \"722a3bcc3e6402f6bf3d7def355c69e4\"\n",
    "import warnings\n",
    "warnings.filterwarnings('ignore')"
   ]
  },
  {
   "cell_type": "code",
   "execution_count": 2,
   "id": "395bfe4c",
   "metadata": {},
   "outputs": [],
   "source": [
    "#Fetch values of latitude and longitude\n",
    "lat = \"59.33258\"\n",
    "lon = \"18.0649\"\n",
    "#Fetch the destination arrival datetime (milliseconds)\n",
    "a= 1634735420"
   ]
  },
  {
   "cell_type": "code",
   "execution_count": 3,
   "id": "2a22cbd1",
   "metadata": {},
   "outputs": [],
   "source": [
    "part = ''\n",
    "url = f'https://api.openweathermap.org/data/2.5/onecall?lat={lat}&lon={lon}&exclude={part}&appid={api}'\n",
    "req = requests.get(url)\n",
    "data = req.json()\n",
    "#print(data)\n",
    "#print(url)"
   ]
  },
  {
   "cell_type": "code",
   "execution_count": 4,
   "id": "6a305728",
   "metadata": {},
   "outputs": [],
   "source": [
    "def fun(data):\n",
    "    if 'dt' in data:\n",
    "        yield data['dt']\n",
    "    for k in data:\n",
    "        if isinstance(data[k], list):\n",
    "            for i in data[k]:\n",
    "                for j in fun(i):\n",
    "                    yield j\n",
    "values = list(fun(data))"
   ]
  },
  {
   "cell_type": "code",
   "execution_count": 5,
   "id": "a98719cd",
   "metadata": {},
   "outputs": [
    {
     "name": "stdout",
     "output_type": "stream",
     "text": [
      "Time now:  10/21/2021, 08:29:20\n"
     ]
    }
   ],
   "source": [
    "def get_date(timezone_offset):\n",
    "    tz = datetime.timezone(datetime.timedelta(seconds=int(timezone_offset)))\n",
    "    return datetime.datetime.now(tz = tz).strftime(\"%m/%d/%Y, %H:%M:%S\") \n",
    "#strftime is just for visually formatting the datetime object\n",
    "print('Time now: ',get_date(data['timezone_offset']))"
   ]
  },
  {
   "cell_type": "code",
   "execution_count": 6,
   "id": "14d431bd",
   "metadata": {},
   "outputs": [],
   "source": [
    "hourly = data[\"hourly\"]\n",
    "for entry in hourly:\n",
    "    dt = datetime.datetime.fromtimestamp(entry[\"dt\"], pytz.timezone('Europe/Vienna'))\n",
    "    temp = entry[\"temp\"]\n",
    "    \n",
    "for element in hourly:\n",
    "    if element['dt']==a: print (element)\n",
    "    else: element['dt']==min(values, key=lambda v: abs(a-v))\n",
    "#print(element)"
   ]
  },
  {
   "cell_type": "code",
   "execution_count": 7,
   "id": "883c9d4c",
   "metadata": {},
   "outputs": [],
   "source": [
    "d = (element['weather'][0]['icon'])\n",
    "icon = f'http://openweathermap.org/img/wn/{d}@2x.png'\n",
    "img = mpimg.imread(icon)"
   ]
  },
  {
   "cell_type": "code",
   "execution_count": 8,
   "id": "c08f317a",
   "metadata": {},
   "outputs": [
    {
     "name": "stdout",
     "output_type": "stream",
     "text": [
      "Weather Report:\t 2021-10-20 15:10:20\n"
     ]
    },
    {
     "data": {
      "image/png": "[encoded data removed]",
      "text/plain": [
       "<Figure size 432x288 with 1 Axes>"
      ]
     },
     "metadata": {
      "needs_background": "light"
     },
     "output_type": "display_data"
    },
    {
     "name": "stdout",
     "output_type": "stream",
     "text": [
      "Europe/Stockholm Weather Forecast\n",
      "Temperature:\t 1.54 °C\n",
      "Feels Like:\t -3.55 °C\n",
      "Humidity:\t 80 hPa\n",
      "Wind speed:\t 6.12 km/hr\n",
      "Atmosphere:\t overcast clouds\n"
     ]
    }
   ],
   "source": [
    "print('Weather Report:\\t', datetime.datetime.fromtimestamp(a))\n",
    "plt.imshow(img)\n",
    "plt.show()\n",
    "print(data[\"timezone\"], 'Weather Forecast')\n",
    "print('Temperature:\\t', round(element['temp']-273.15, 2), '\\u00b0C')\n",
    "print('Feels Like:\\t', round(element['feels_like']-273.15, 2), '\\u00b0C')\n",
    "print('Humidity:\\t', round(element['humidity'], 2), 'hPa')\n",
    "print('Wind speed:\\t', round(element['wind_speed'], 2), 'km/hr')\n",
    "print('Atmosphere:\\t', (element['weather'][0]['description']))"
   ]
  },
  {
   "cell_type": "code",
   "execution_count": null,
   "id": "96bcbc87",
   "metadata": {},
   "outputs": [],
   "source": []
  }
 ],
 "metadata": {
  "hide_input": false,
  "kernelspec": {
   "display_name": "Python 3",
   "language": "python",
   "name": "python3"
  },
  "language_info": {
   "codemirror_mode": {
    "name": "ipython",
    "version": 3
   },
   "file_extension": ".py",
   "mimetype": "text/x-python",
   "name": "python",
   "nbconvert_exporter": "python",
   "pygments_lexer": "ipython3",
   "version": "3.8.8"
  },
  "toc": {
   "base_numbering": 1,
   "nav_menu": {},
   "number_sections": true,
   "sideBar": true,
   "skip_h1_title": false,
   "title_cell": "Table of Contents",
   "title_sidebar": "Contents",
   "toc_cell": false,
   "toc_position": {},
   "toc_section_display": true,
   "toc_window_display": false
  }
 },
 "nbformat": 4,
 "nbformat_minor": 5
}
